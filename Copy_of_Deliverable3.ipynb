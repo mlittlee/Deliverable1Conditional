{
  "nbformat": 4,
  "nbformat_minor": 0,
  "metadata": {
    "colab": {
      "provenance": []
    },
    "kernelspec": {
      "name": "python3",
      "display_name": "Python 3"
    },
    "language_info": {
      "name": "python"
    }
  },
  "cells": [
    {
      "cell_type": "code",
      "execution_count": null,
      "metadata": {
        "id": "P5qApnCg9HZN",
        "colab": {
          "base_uri": "https://localhost:8080/"
        },
        "outputId": "5de2e691-663f-4229-c845-433380d3d74a"
      },
      "outputs": [
        {
          "output_type": "stream",
          "name": "stdout",
          "text": [
            "                  mean       std  min   max\n",
            "sepal_length  5.843333  0.828066  4.3   7.9\n",
            "sepal_width   3.057333  0.435866  2.0   4.4\n",
            "petal_length  3.758000  1.765298  1.0   6.9\n",
            "petal_width   1.199333  0.762238  0.1   2.5\n",
            "sepal_sum     8.900667  0.889272  6.8  11.7\n",
            "petal_sum     4.957333  2.507689  1.2   9.2\n"
          ]
        }
      ],
      "source": [
        "import pandas as pd\n",
        "import numpy as np\n",
        "import seaborn as sns\n",
        "\n",
        "iris = sns.load_dataset('iris')\n",
        "\n",
        "iris = iris.drop(columns=['species'])\n",
        "\n",
        "iris['sepal_sum'] = iris['sepal_length'] + iris['sepal_width']\n",
        "iris['petal_sum'] = iris['petal_length'] + iris['petal_width']\n",
        "\n",
        "summary_stats = pd.DataFrame({\n",
        "    'mean': iris.mean(),\n",
        "    'std': iris.std(),\n",
        "    'min': iris.min(),\n",
        "    'max': iris.max()\n",
        "})\n",
        "\n",
        "print(summary_stats)"
      ]
    }
  ]
}