{
  "nbformat": 4,
  "nbformat_minor": 0,
  "metadata": {
    "colab": {
      "provenance": []
    },
    "kernelspec": {
      "name": "python3",
      "display_name": "Python 3"
    },
    "language_info": {
      "name": "python"
    }
  },
  "cells": [
    {
      "cell_type": "code",
      "execution_count": 2,
      "metadata": {
        "colab": {
          "base_uri": "https://localhost:8080/"
        },
        "id": "IY6HwE5EObth",
        "outputId": "bb5fd711-54a7-40c4-c7a2-ef380754bfa2"
      },
      "outputs": [
        {
          "output_type": "stream",
          "name": "stdout",
          "text": [
            "Enter an integer number between 5 and 15: 4\n",
            "Please enter a number between 5 and 15.\n",
            "Enter an integer number between 5 and 15: 13\n",
            "The elements of the array are: 32 26 38 43 22 14 28 17 38 17 15 39 32\n",
            "The sum is: 361\n"
          ]
        }
      ],
      "source": [
        "import random\n",
        "\n",
        "def populate_list(length):\n",
        "    return [random.randint(10, 50) for _ in range(length)]\n",
        "\n",
        "def sum_list_elements(lst):\n",
        "    return sum(lst)\n",
        "\n",
        "def main():\n",
        "    while True:\n",
        "        try:\n",
        "            user_input = int(input(\"Enter an integer number between 5 and 15: \"))\n",
        "            if 5 <= user_input <= 15:\n",
        "                break\n",
        "            else:\n",
        "                print(\"Please enter a number between 5 and 15.\")\n",
        "        except ValueError:\n",
        "            print(\"Invalid input. Please enter a valid integer.\")\n",
        "\n",
        "    random_list = populate_list(user_input)\n",
        "    print(\"The elements of the array are:\", \" \".join(map(str, random_list)))\n",
        "\n",
        "    sum_result = sum_list_elements(random_list)\n",
        "    print(\"The sum is:\", sum_result)\n",
        "\n",
        "if __name__ == \"__main__\":\n",
        "    main()\n"
      ]
    }
  ]
}